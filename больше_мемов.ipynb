{
  "nbformat": 4,
  "nbformat_minor": 0,
  "metadata": {
    "colab": {
      "provenance": []
    },
    "kernelspec": {
      "name": "python3",
      "display_name": "Python 3"
    },
    "language_info": {
      "name": "python"
    }
  },
  "cells": [
    {
      "cell_type": "markdown",
      "source": [
        "# В продолжение мемного собрания\n",
        "У нас по всем канонам работа делается только в последний момент. Эти мемы были собраны с любовью, но загружены не все. Исправляемся"
      ],
      "metadata": {
        "id": "1waGKO7iymsU"
      }
    },
    {
      "cell_type": "markdown",
      "source": [
        "\n",
        "<img src = 'https://sun9-60.userapi.com/impg/meuNMZq7va227XVxzn4xVYfyrPAtRdphDCq17A/RvNIZt80xqw.jpg?size=930x908&quality=96&sign=b9ab6c7c30983777f2acd276ab81695a&type=album' width = 500>"
      ],
      "metadata": {
        "id": "O-s_CS0sy8lp"
      }
    },
    {
      "cell_type": "markdown",
      "source": [
        "<img src = 'https://sun9-28.userapi.com/impg/aJQUuOA9dZo6dcqLcbTc3r7Aq-0xCAmsLiii5Q/yW9soql4KpY.jpg?size=940x1158&quality=96&sign=ab13816a2368d93519bb7cd015026b85&type=album' width = 500>\n"
      ],
      "metadata": {
        "id": "EvDSXimlzTh4"
      }
    },
    {
      "cell_type": "markdown",
      "source": [
        "\n",
        "<img src = 'https://sun9-73.userapi.com/impg/P2bzF4UJGdBTYxV-Sl72_0edati7isfsIfFyTQ/QPVDqPf3qDA.jpg?size=942x894&quality=95&sign=92b8a6a0d5625ac08bc009995f654a64&type=album' width = 500>\n"
      ],
      "metadata": {
        "id": "lHZ-nER9zPsh"
      }
    },
    {
      "cell_type": "markdown",
      "source": [
        "\n",
        "\n",
        "\n",
        "<img src = 'https://sun9-68.userapi.com/impg/HIVWpvRYYKmIh_R_cS8Qa30_sVG3Pyo4ziEZWw/mXutv6li1ZQ.jpg?size=944x500&quality=96&sign=8fe86092aa628499c8b026ffb3ac62c4&type=album' width = 500>"
      ],
      "metadata": {
        "id": "BCN5v23YzXGC"
      }
    },
    {
      "cell_type": "markdown",
      "source": [
        "\n",
        "<img src = 'https://sun9-77.userapi.com/impg/5dsVpotyLIHMVbbRxUsalD9MOC1gUXyJTSZDYQ/Hxmz0TCubAY.jpg?size=1174x956&quality=95&sign=1a995e66137e69b72fd8c20ec2111ca3&type=album' width = 500>"
      ],
      "metadata": {
        "id": "WTr0AxZk0Uc8"
      }
    },
    {
      "cell_type": "markdown",
      "source": [
        "<img src = 'https://sun9-37.userapi.com/impg/9vbAcKoI7Cu-MLH2d3J1R5aXs8k9eN_JWNQowQ/-J07m9oUD0A.jpg?size=980x768&quality=95&sign=65643f9ed64bcfeedf59805c4aa4ebda&type=album' width = 500>"
      ],
      "metadata": {
        "id": "Z4AokYOG0ZcA"
      }
    },
    {
      "cell_type": "markdown",
      "source": [
        "\n",
        "<img src = 'https://sun9-62.userapi.com/impg/LBoA3Ti4DoUN4iyofuOYdZgm51JiJvDXb4jJmg/iMUm6iNVako.jpg?size=916x661&quality=95&sign=5952b0ded6624aa54cfa1465b9be460d&type=album\n",
        "' width = 500>"
      ],
      "metadata": {
        "id": "yMZp-z1p0qQ5"
      }
    },
    {
      "cell_type": "markdown",
      "source": [
        "\n",
        "<img src = 'https://sun9-63.userapi.com/impg/K7Psbkm483cHTPkUnYTyl7Um8PEujed_a2_mIg/PVG1ZjBbIbQ.jpg?size=1007x660&quality=95&sign=7be64749de4beba714f687dfe174a2d1&type=album\n",
        "' width = 500>"
      ],
      "metadata": {
        "id": "EC3a_ZfY0u0T"
      }
    },
    {
      "cell_type": "markdown",
      "source": [
        "\n",
        "<img src = 'https://sun9-72.userapi.com/impg/YVUyNimmkykqKlu10k7BZHOJWd8Hdn_rfIsCig/lhmAt8NyZeM.jpg?size=1124x972&quality=95&sign=c0cd3cd1419b354c8b5a847d76b9936b&type=album' width = 500>"
      ],
      "metadata": {
        "id": "vx4AENw31YOp"
      }
    },
    {
      "cell_type": "markdown",
      "source": [
        "<img src = 'https://sun9-28.userapi.com/impg/6deVmEQHoh8-lxyYg0Uplz-XCfjkdx_d2sVlWA/W7z6CjMktiQ.jpg?size=670x952&quality=95&sign=dfeaa0a27fda0a247db7166d9f1c5550&type=album' width = 500>"
      ],
      "metadata": {
        "id": "AATpea1l1wqZ"
      }
    },
    {
      "cell_type": "markdown",
      "source": [
        "<img src = 'https://sun9-4.userapi.com/impg/hHvauUY1jcth3AlWjyG_aJ3EgX3GvIOivO0CZw/xdTSWGyjhbU.jpg?size=864x764&quality=95&sign=becd2e03ad4dd88817055e9dc01c95a0&type=album' width = 500>"
      ],
      "metadata": {
        "id": "Hr4lPDI01zvA"
      }
    },
    {
      "cell_type": "markdown",
      "source": [
        "<img src = 'https://sun9-56.userapi.com/impg/pR3dlA5Sb8XhqKobJnEgxJlsdxDrtkS_y33uOw/OH9s_YV_xyM.jpg?size=1256x1280&quality=95&sign=2ec9f9d3300946e62da4f62e715edcb7&type=album' width = 500>"
      ],
      "metadata": {
        "id": "e0T7pT1m2fGj"
      }
    },
    {
      "cell_type": "markdown",
      "source": [
        "<img src = 'https://sun9-9.userapi.com/impf/c638726/v638726090/26563/eHHvbVgpa2Q.jpg?size=540x304&quality=96&sign=4c22392e861395ad5fcc104a4edc4969&type=album' width = 500>"
      ],
      "metadata": {
        "id": "3O8xpmb_2u85"
      }
    },
    {
      "cell_type": "markdown",
      "source": [
        "<img src = 'https://sun9-48.userapi.com/impg/cpqUzusKZsWSXp15ABJXnSRV96fia6VjRZuEqQ/MLVKvMCHnxI.jpg?size=928x940&quality=95&sign=cfa63bd9e3c8cd288b30d659172fc5c3&type=album' width = 500>"
      ],
      "metadata": {
        "id": "utV8w0H93ggz"
      }
    },
    {
      "cell_type": "markdown",
      "source": [
        "<img src = 'https://sun9-80.userapi.com/impg/NBD0zsQr8klgffZOqeYCRwWB4u_wbHkzPF2g-Q/wlGu4ioEiH4.jpg?size=922x862&quality=95&sign=7a60a4aa2e31392a627c65afccecdeb3&type=album' width = 500>"
      ],
      "metadata": {
        "id": "E4Z6fl2H3jxX"
      }
    }
  ]
}